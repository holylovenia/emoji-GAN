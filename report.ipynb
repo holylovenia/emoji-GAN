{
 "cells": [
  {
   "cell_type": "markdown",
   "id": "60b680a0",
   "metadata": {},
   "source": [
    "# Emoji translation with GANs"
   ]
  },
  {
   "cell_type": "markdown",
   "id": "08c82b11",
   "metadata": {},
   "source": [
    "Holy Lovenia - 20814158"
   ]
  },
  {
   "cell_type": "markdown",
   "id": "6cee9e77",
   "metadata": {},
   "source": [
    "## DCGAN"
   ]
  },
  {
   "cell_type": "markdown",
   "id": "0398b8a2",
   "metadata": {},
   "source": [
    "### Training loss"
   ]
  },
  {
   "cell_type": "markdown",
   "id": "68d74faa",
   "metadata": {},
   "source": [
    "#### Discriminator loss."
   ]
  },
  {
   "cell_type": "markdown",
   "id": "af083234",
   "metadata": {},
   "source": [
    "D_real_loss."
   ]
  },
  {
   "cell_type": "markdown",
   "id": "6b7f859c",
   "metadata": {},
   "source": [
    "![](./logs/dcgan-D_real_loss-train.png \"DCGAN - Real discriminator loss\")"
   ]
  },
  {
   "cell_type": "markdown",
   "id": "bae72049",
   "metadata": {},
   "source": [
    "D_fake_loss."
   ]
  },
  {
   "cell_type": "markdown",
   "id": "28afe1e9",
   "metadata": {},
   "source": [
    "![](./logs/dcgan-D_fake_loss-train.png \"DCGAN - Fake discriminator loss\")"
   ]
  },
  {
   "cell_type": "markdown",
   "id": "9125adc0",
   "metadata": {},
   "source": [
    "D_total_loss."
   ]
  },
  {
   "cell_type": "markdown",
   "id": "ea66ae28",
   "metadata": {},
   "source": [
    "![](./logs/dcgan-D_total_loss-train.png \"DCGAN - Total discriminator loss\")"
   ]
  },
  {
   "cell_type": "markdown",
   "id": "a1990507",
   "metadata": {},
   "source": [
    "#### Generator loss."
   ]
  },
  {
   "cell_type": "markdown",
   "id": "dbfd3221",
   "metadata": {},
   "source": [
    "G_loss."
   ]
  },
  {
   "cell_type": "markdown",
   "id": "4fa112c0",
   "metadata": {},
   "source": [
    "![](./logs/dcgan-G_loss-train.png \"DCGAN - Generator loss\")"
   ]
  },
  {
   "cell_type": "markdown",
   "id": "63b80e10",
   "metadata": {},
   "source": [
    "### Generated samples"
   ]
  },
  {
   "cell_type": "markdown",
   "id": "1d77e0d6",
   "metadata": {},
   "source": [
    "Iter. 200 | Iter. 2000 | Iter. 4000 | Iter. 8000\n",
    ":----:|:----:|:----:|:----:\n",
    "![](./samples_vanilla/sample-000200.png \"DCGAN - Iteration 200\") | ![](./samples_vanilla/sample-002000.png \"DCGAN - Iteration 2000\") | ![](./samples_vanilla/sample-004000.png \"DCGAN - Iteration 4000\") | ![](./samples_vanilla/sample-008000.png \"DCGAN - Iteration 8000\")"
   ]
  },
  {
   "cell_type": "markdown",
   "id": "ee37c06b",
   "metadata": {},
   "source": [
    "Iter. 16000 | Iter. 32000 | Iter. 64000 | Iter. 70000\n",
    ":----:|:----:|:----:|:----:\n",
    "![](./samples_vanilla/sample-016000.png \"DCGAN - Iteration 16000\") | ![](./samples_vanilla/sample-032000.png \"DCGAN - Iteration 32000\") | ![](./samples_vanilla/sample-064000.png \"DCGAN - Iteration 64000\") | ![](./samples_vanilla/sample-070000.png \"DCGAN - Iteration 70000\")"
   ]
  },
  {
   "cell_type": "markdown",
   "id": "6de5e310",
   "metadata": {},
   "source": [
    "## CycleGAN"
   ]
  },
  {
   "cell_type": "markdown",
   "id": "95c9ae8b",
   "metadata": {},
   "source": [
    "### Training loss"
   ]
  },
  {
   "cell_type": "markdown",
   "id": "275cd936",
   "metadata": {},
   "source": [
    "#### Discriminator loss."
   ]
  },
  {
   "cell_type": "markdown",
   "id": "e8be48eb",
   "metadata": {},
   "source": [
    "d_real_loss."
   ]
  },
  {
   "cell_type": "markdown",
   "id": "95a2b852",
   "metadata": {},
   "source": [
    "![](./logs/cyclegan-d_real_loss-train.png \"CycleGAN - Real discriminator loss\")"
   ]
  },
  {
   "cell_type": "markdown",
   "id": "1d1e9a82",
   "metadata": {},
   "source": [
    "d_fake_loss."
   ]
  },
  {
   "cell_type": "markdown",
   "id": "a6102dbe",
   "metadata": {},
   "source": [
    "![](./logs/cyclegan-d_fake_loss-train.png \"CycleGAN - Fake discriminator loss\")"
   ]
  },
  {
   "cell_type": "markdown",
   "id": "27551bb1",
   "metadata": {},
   "source": [
    "total_d_loss."
   ]
  },
  {
   "cell_type": "markdown",
   "id": "3e123fba",
   "metadata": {},
   "source": [
    "![](./logs/cyclegan-total_d_loss-train.png \"CycleGAN - Total discriminator loss\")"
   ]
  },
  {
   "cell_type": "markdown",
   "id": "f1cffa46",
   "metadata": {},
   "source": [
    "#### Generator loss."
   ]
  },
  {
   "cell_type": "markdown",
   "id": "a9040c0f",
   "metadata": {},
   "source": [
    "g_loss."
   ]
  },
  {
   "cell_type": "markdown",
   "id": "db7722d4",
   "metadata": {},
   "source": [
    "![](./logs/cyclegan-g_loss-train.png \"CycleGAN - Generator loss\")"
   ]
  },
  {
   "cell_type": "markdown",
   "id": "ee88162b",
   "metadata": {},
   "source": [
    "### Generated samples"
   ]
  },
  {
   "cell_type": "markdown",
   "id": "997eab88",
   "metadata": {},
   "source": [
    "Iteration 200."
   ]
  },
  {
   "cell_type": "markdown",
   "id": "bc1445ad",
   "metadata": {},
   "source": [
    "X-Y    |   Y-X\n",
    ":-----:|:-----:\n",
    "![](./samples_cyclegan/sample-000200-X-Y.png \"CycleGAN X-Y - Iteration 200\")  |  ![](./samples_cyclegan/sample-000200-Y-X.png \"CycleGAN Y-X - Iteration 200\")"
   ]
  },
  {
   "cell_type": "markdown",
   "id": "a823e1a5",
   "metadata": {},
   "source": [
    "Iteration 2000."
   ]
  },
  {
   "cell_type": "markdown",
   "id": "32824e5a",
   "metadata": {},
   "source": [
    "X-Y    |   Y-X\n",
    ":-----:|:-----:\n",
    "![](./samples_cyclegan/sample-002000-X-Y.png \"CycleGAN X-Y - Iteration 2000\")  |  ![](./samples_cyclegan/sample-002000-Y-X.png \"CycleGAN Y-X - Iteration 2000\")"
   ]
  },
  {
   "cell_type": "markdown",
   "id": "9ad101bd",
   "metadata": {},
   "source": [
    "Iteration 4000."
   ]
  },
  {
   "cell_type": "markdown",
   "id": "a7cd5d7a",
   "metadata": {},
   "source": [
    "X-Y    |   Y-X\n",
    ":-----:|:-----:\n",
    "![](./samples_cyclegan/sample-004000-X-Y.png \"CycleGAN X-Y - Iteration 4000\")  |  ![](./samples_cyclegan/sample-004000-Y-X.png \"CycleGAN Y-X - Iteration 4000\")"
   ]
  },
  {
   "cell_type": "markdown",
   "id": "c78c121b",
   "metadata": {},
   "source": [
    "Iteration 8000."
   ]
  },
  {
   "cell_type": "markdown",
   "id": "ecb4ba3a",
   "metadata": {},
   "source": [
    "X-Y    |   Y-X\n",
    ":-----:|:-----:\n",
    "![](./samples_cyclegan/sample-008000-X-Y.png \"CycleGAN X-Y - Iteration 8000\")  |  ![](./samples_cyclegan/sample-008000-Y-X.png \"CycleGAN Y-X - Iteration 8000\")"
   ]
  },
  {
   "cell_type": "markdown",
   "id": "58b3d89e",
   "metadata": {},
   "source": [
    "Iteration 16000."
   ]
  },
  {
   "cell_type": "markdown",
   "id": "99241a21",
   "metadata": {},
   "source": [
    "X-Y    |   Y-X\n",
    ":-----:|:-----:\n",
    "![](./samples_cyclegan/sample-016000-X-Y.png \"CycleGAN X-Y - Iteration 16000\")  |  ![](./samples_cyclegan/sample-016000-Y-X.png \"CycleGAN Y-X - Iteration 16000\")"
   ]
  },
  {
   "cell_type": "markdown",
   "id": "6f90d9e7",
   "metadata": {},
   "source": [
    "Iteration 32000."
   ]
  },
  {
   "cell_type": "markdown",
   "id": "5ef9011c",
   "metadata": {},
   "source": [
    "X-Y    |   Y-X\n",
    ":-----:|:-----:\n",
    "![](./samples_cyclegan/sample-032000-X-Y.png \"CycleGAN X-Y - Iteration 32000\")  |  ![](./samples_cyclegan/sample-032000-Y-X.png \"CycleGAN Y-X - Iteration 32000\")"
   ]
  },
  {
   "cell_type": "markdown",
   "id": "4eeda78e",
   "metadata": {},
   "source": [
    "Iteration 64000."
   ]
  },
  {
   "cell_type": "markdown",
   "id": "86bd9a79",
   "metadata": {},
   "source": [
    "X-Y    |   Y-X\n",
    ":-----:|:-----:\n",
    "![](./samples_cyclegan/sample-064000-X-Y.png \"CycleGAN X-Y - Iteration 64000\")  |  ![](./samples_cyclegan/sample-064000-Y-X.png \"CycleGAN Y-X - Iteration 64000\")"
   ]
  },
  {
   "cell_type": "markdown",
   "id": "6986748d",
   "metadata": {},
   "source": [
    "Iteration 85000."
   ]
  },
  {
   "cell_type": "markdown",
   "id": "a5e3f4ce",
   "metadata": {},
   "source": [
    "X-Y    |   Y-X\n",
    ":-----:|:-----:\n",
    "![](./samples_cyclegan/sample-085000-X-Y.png \"CycleGAN X-Y - Iteration 85000\")  |  ![](./samples_cyclegan/sample-085000-Y-X.png \"CycleGAN Y-X - Iteration 85000\")"
   ]
  }
 ],
 "metadata": {
  "kernelspec": {
   "display_name": "Python 3 (ipykernel)",
   "language": "python",
   "name": "python3"
  },
  "language_info": {
   "codemirror_mode": {
    "name": "ipython",
    "version": 3
   },
   "file_extension": ".py",
   "mimetype": "text/x-python",
   "name": "python",
   "nbconvert_exporter": "python",
   "pygments_lexer": "ipython3",
   "version": "3.10.4"
  }
 },
 "nbformat": 4,
 "nbformat_minor": 5
}
